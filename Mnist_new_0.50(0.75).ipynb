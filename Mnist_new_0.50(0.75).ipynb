{
  "nbformat": 4,
  "nbformat_minor": 0,
  "metadata": {
    "colab": {
      "name": "Mnist_new_0.50(0.75).ipynb",
      "provenance": [],
      "collapsed_sections": [],
      "authorship_tag": "ABX9TyO7v4VPccM+rSmDuqUgsP5z",
      "include_colab_link": true
    },
    "kernelspec": {
      "name": "python3",
      "display_name": "Python 3"
    },
    "language_info": {
      "name": "python"
    },
    "accelerator": "GPU"
  },
  "cells": [
    {
      "cell_type": "markdown",
      "metadata": {
        "id": "view-in-github",
        "colab_type": "text"
      },
      "source": [
        "<a href=\"https://colab.research.google.com/github/jackson119/new_0.50/blob/main/Mnist_new_0.50(0.75).ipynb\" target=\"_parent\"><img src=\"https://colab.research.google.com/assets/colab-badge.svg\" alt=\"Open In Colab\"/></a>"
      ]
    },
    {
      "cell_type": "code",
      "metadata": {
        "id": "VWOXs4Fcj1iL"
      },
      "source": [
        "import tensorflow as tf\n",
        "import keras\n",
        "import timeit\n",
        "import datetime"
      ],
      "execution_count": 1,
      "outputs": []
    },
    {
      "cell_type": "code",
      "metadata": {
        "id": "B2f3fSSJj25c",
        "colab": {
          "base_uri": "https://localhost:8080/"
        },
        "outputId": "b1166dbd-cb1f-40fd-c88e-ab6374e1e92b"
      },
      "source": [
        "print(tf.__version__)"
      ],
      "execution_count": 2,
      "outputs": [
        {
          "output_type": "stream",
          "text": [
            "2.4.1\n"
          ],
          "name": "stdout"
        }
      ]
    },
    {
      "cell_type": "markdown",
      "metadata": {
        "id": "bWnGyUapUPQ5"
      },
      "source": [
        "## **import required library**"
      ]
    },
    {
      "cell_type": "code",
      "metadata": {
        "id": "WYOIBjZ2j7Gg"
      },
      "source": [
        "from tensorflow.keras.datasets import mnist\n",
        "from tensorflow.keras import utils\n",
        "import numpy as np\n",
        "np.random.seed(10)"
      ],
      "execution_count": 3,
      "outputs": []
    },
    {
      "cell_type": "markdown",
      "metadata": {
        "id": "WKUtk9NSUWB7"
      },
      "source": [
        "### Preproccessing data"
      ]
    },
    {
      "cell_type": "code",
      "metadata": {
        "id": "7dqpRL2jkIza",
        "colab": {
          "base_uri": "https://localhost:8080/"
        },
        "outputId": "30cd2c61-591a-418b-dff3-2475a8735b40"
      },
      "source": [
        "(x_Train,y_Train),(x_Test,y_Test)=mnist.load_data()"
      ],
      "execution_count": 4,
      "outputs": [
        {
          "output_type": "stream",
          "text": [
            "Downloading data from https://storage.googleapis.com/tensorflow/tf-keras-datasets/mnist.npz\n",
            "11493376/11490434 [==============================] - 0s 0us/step\n"
          ],
          "name": "stdout"
        }
      ]
    },
    {
      "cell_type": "code",
      "metadata": {
        "id": "DmE55rdQkP2_"
      },
      "source": [
        "x_Train4D=x_Train.reshape(x_Train.shape[0],28,28,1).astype('float32')\n",
        "x_Test4D=x_Test.reshape(x_Test.shape[0],28,28,1).astype('float32')\n"
      ],
      "execution_count": 5,
      "outputs": []
    },
    {
      "cell_type": "code",
      "metadata": {
        "id": "YbxdLorvkXmd"
      },
      "source": [
        "x_Train4D_normalize=x_Train4D/255\n",
        "x_Test4D_normalize=x_Test4D/255"
      ],
      "execution_count": 6,
      "outputs": []
    },
    {
      "cell_type": "code",
      "metadata": {
        "id": "eiI0qK5DkxQF"
      },
      "source": [
        "y_TrainOneHot=utils.to_categorical(y_Train)\n",
        "y_TestOneHot=utils.to_categorical(y_Test)"
      ],
      "execution_count": 7,
      "outputs": []
    },
    {
      "cell_type": "code",
      "metadata": {
        "id": "3-0M-4lSk6uE"
      },
      "source": [
        "##from tensorflow.keras.models import Sequential\n",
        "##from tensorflow.keras.layers import Dense,Dropout,Flatten,Conv2D,MaxPooling2D"
      ],
      "execution_count": 8,
      "outputs": []
    },
    {
      "cell_type": "code",
      "metadata": {
        "id": "D12sZOVunjwf"
      },
      "source": [
        "from keras.models import Sequential\n",
        "from keras.layers import Dense,Dropout,Flatten,Conv2D,MaxPooling2D"
      ],
      "execution_count": 9,
      "outputs": []
    },
    {
      "cell_type": "markdown",
      "metadata": {
        "id": "_x363BktUbVs"
      },
      "source": [
        "### construct model"
      ]
    },
    {
      "cell_type": "code",
      "metadata": {
        "id": "JPz6nXD5l7pL"
      },
      "source": [
        "model=Sequential()"
      ],
      "execution_count": 10,
      "outputs": []
    },
    {
      "cell_type": "code",
      "metadata": {
        "id": "dvGR--Uul9ob"
      },
      "source": [
        "model.add(Conv2D(filters=16,kernel_size=(5,5),padding='same',input_shape=(28,28,1),activation='relu'))"
      ],
      "execution_count": 11,
      "outputs": []
    },
    {
      "cell_type": "code",
      "metadata": {
        "id": "7mzKX8mmmK2S"
      },
      "source": [
        "model.add(MaxPooling2D(pool_size=(2,2)))"
      ],
      "execution_count": 12,
      "outputs": []
    },
    {
      "cell_type": "code",
      "metadata": {
        "id": "bsuQ7Yq1miJ-"
      },
      "source": [
        "model.add(Conv2D(filters=36,kernel_size=(5,5),padding='same',activation='relu'))"
      ],
      "execution_count": 13,
      "outputs": []
    },
    {
      "cell_type": "code",
      "metadata": {
        "id": "VrKNvg7Hn6Du"
      },
      "source": [
        "model.add(MaxPooling2D(pool_size=(2,2)))"
      ],
      "execution_count": 14,
      "outputs": []
    },
    {
      "cell_type": "code",
      "metadata": {
        "id": "MRthPYcwoBcI"
      },
      "source": [
        "model.add(Dropout(0.25))"
      ],
      "execution_count": 15,
      "outputs": []
    },
    {
      "cell_type": "code",
      "metadata": {
        "id": "P485is4Zom-1"
      },
      "source": [
        "model.add(Flatten())"
      ],
      "execution_count": 16,
      "outputs": []
    },
    {
      "cell_type": "code",
      "metadata": {
        "id": "78IBW9kIoDxi"
      },
      "source": [
        "model.add(Dense(128,activation='relu'))"
      ],
      "execution_count": 17,
      "outputs": []
    },
    {
      "cell_type": "code",
      "metadata": {
        "id": "oSN2V7VWoHZT"
      },
      "source": [
        "model.add(Dropout(0.75))"
      ],
      "execution_count": 18,
      "outputs": []
    },
    {
      "cell_type": "code",
      "metadata": {
        "id": "Ryj9sVYzoJPv"
      },
      "source": [
        "model.add(Dense(10,activation='softmax'))"
      ],
      "execution_count": 19,
      "outputs": []
    },
    {
      "cell_type": "code",
      "metadata": {
        "id": "Tflp6GDxoN2M",
        "colab": {
          "base_uri": "https://localhost:8080/"
        },
        "outputId": "140829d9-f273-4525-b3c8-5a466d9ed836"
      },
      "source": [
        "print(model.summary())"
      ],
      "execution_count": 20,
      "outputs": [
        {
          "output_type": "stream",
          "text": [
            "Model: \"sequential\"\n",
            "_________________________________________________________________\n",
            "Layer (type)                 Output Shape              Param #   \n",
            "=================================================================\n",
            "conv2d (Conv2D)              (None, 28, 28, 16)        416       \n",
            "_________________________________________________________________\n",
            "max_pooling2d (MaxPooling2D) (None, 14, 14, 16)        0         \n",
            "_________________________________________________________________\n",
            "conv2d_1 (Conv2D)            (None, 14, 14, 36)        14436     \n",
            "_________________________________________________________________\n",
            "max_pooling2d_1 (MaxPooling2 (None, 7, 7, 36)          0         \n",
            "_________________________________________________________________\n",
            "dropout (Dropout)            (None, 7, 7, 36)          0         \n",
            "_________________________________________________________________\n",
            "flatten (Flatten)            (None, 1764)              0         \n",
            "_________________________________________________________________\n",
            "dense (Dense)                (None, 128)               225920    \n",
            "_________________________________________________________________\n",
            "dropout_1 (Dropout)          (None, 128)               0         \n",
            "_________________________________________________________________\n",
            "dense_1 (Dense)              (None, 10)                1290      \n",
            "=================================================================\n",
            "Total params: 242,062\n",
            "Trainable params: 242,062\n",
            "Non-trainable params: 0\n",
            "_________________________________________________________________\n",
            "None\n"
          ],
          "name": "stdout"
        }
      ]
    },
    {
      "cell_type": "code",
      "metadata": {
        "colab": {
          "base_uri": "https://localhost:8080/"
        },
        "id": "KkjXWlxAo-7X",
        "outputId": "736f0cce-6dc8-4414-831d-70f62971d1c8"
      },
      "source": [
        "model.compile(loss='categorical_crossentropy',optimizer='adam',metrics=['accuracy'])\n",
        "start_time = timeit.default_timer()\n",
        "train_history=model.fit(x=x_Train4D_normalize,y=y_TrainOneHot,validation_split=0.20,epochs=10,batch_size=300,verbose=2)\n",
        "end_time = timeit.default_timer()\n",
        "end_time_conversion=datetime.timedelta(seconds=end_time-start_time)\n",
        "converted_time = str(end_time_conversion)\n",
        "print(\"time needed to complete the process\", converted_time)"
      ],
      "execution_count": 21,
      "outputs": [
        {
          "output_type": "stream",
          "text": [
            "Epoch 1/10\n",
            "160/160 - 34s - loss: 0.6827 - accuracy: 0.7815 - val_loss: 0.1138 - val_accuracy: 0.9653\n",
            "Epoch 2/10\n",
            "160/160 - 1s - loss: 0.2391 - accuracy: 0.9298 - val_loss: 0.0739 - val_accuracy: 0.9775\n",
            "Epoch 3/10\n",
            "160/160 - 1s - loss: 0.1820 - accuracy: 0.9473 - val_loss: 0.0634 - val_accuracy: 0.9807\n",
            "Epoch 4/10\n",
            "160/160 - 1s - loss: 0.1507 - accuracy: 0.9565 - val_loss: 0.0560 - val_accuracy: 0.9833\n",
            "Epoch 5/10\n",
            "160/160 - 1s - loss: 0.1328 - accuracy: 0.9608 - val_loss: 0.0442 - val_accuracy: 0.9870\n",
            "Epoch 6/10\n",
            "160/160 - 1s - loss: 0.1202 - accuracy: 0.9647 - val_loss: 0.0437 - val_accuracy: 0.9877\n",
            "Epoch 7/10\n",
            "160/160 - 1s - loss: 0.1044 - accuracy: 0.9688 - val_loss: 0.0408 - val_accuracy: 0.9889\n",
            "Epoch 8/10\n",
            "160/160 - 1s - loss: 0.1017 - accuracy: 0.9701 - val_loss: 0.0384 - val_accuracy: 0.9888\n",
            "Epoch 9/10\n",
            "160/160 - 1s - loss: 0.0919 - accuracy: 0.9737 - val_loss: 0.0373 - val_accuracy: 0.9894\n",
            "Epoch 10/10\n",
            "160/160 - 1s - loss: 0.0830 - accuracy: 0.9759 - val_loss: 0.0357 - val_accuracy: 0.9898\n",
            "time needed to complete the process 0:00:42.890773\n"
          ],
          "name": "stdout"
        }
      ]
    },
    {
      "cell_type": "code",
      "metadata": {
        "id": "BRDns4JIpRSq"
      },
      "source": [
        "from matplotlib import pyplot as plt"
      ],
      "execution_count": 22,
      "outputs": []
    },
    {
      "cell_type": "code",
      "metadata": {
        "id": "bEkINJ-GritY"
      },
      "source": [
        "def show_train_history(train_history,train,validation):\n",
        "  plt.plot(train_history.history[train])   ### the training model will be stored into dictionary that why we can rethreived it like this.\n",
        "  plt.plot(train_history.history[validation])\n",
        "  plt.title('Train History')\n",
        "  plt.ylabel('Train')\n",
        "  plt.xlabel('Epoch')\n",
        "  plt.legend(['train','validation'],loc='upper left')\n",
        "  plt.show()"
      ],
      "execution_count": 23,
      "outputs": []
    },
    {
      "cell_type": "code",
      "metadata": {
        "colab": {
          "base_uri": "https://localhost:8080/",
          "height": 295
        },
        "id": "Njycld2KrmY-",
        "outputId": "716cf965-d894-4906-8915-09f972c4b6be"
      },
      "source": [
        "show_train_history(train_history,'accuracy','val_accuracy')"
      ],
      "execution_count": 24,
      "outputs": [
        {
          "output_type": "display_data",
          "data": {
            "image/png": "[encoded data removed]",
            "text/plain": [
              "<Figure size 432x288 with 1 Axes>"
            ]
          },
          "metadata": {
            "tags": [],
            "needs_background": "light"
          }
        }
      ]
    },
    {
      "cell_type": "code",
      "metadata": {
        "colab": {
          "base_uri": "https://localhost:8080/",
          "height": 295
        },
        "id": "7xzDtW-6rnye",
        "outputId": "9b03cb18-0e9a-4840-d311-6798c5a28d98"
      },
      "source": [
        "show_train_history(train_history,'loss','val_loss')"
      ],
      "execution_count": 25,
      "outputs": [
        {
          "output_type": "display_data",
          "data": {
            "image/png": "[encoded data removed]",
            "text/plain": [
              "<Figure size 432x288 with 1 Axes>"
            ]
          },
          "metadata": {
            "tags": [],
            "needs_background": "light"
          }
        }
      ]
    },
    {
      "cell_type": "code",
      "metadata": {
        "colab": {
          "base_uri": "https://localhost:8080/"
        },
        "id": "rigODtjWsH9a",
        "outputId": "06a7a6eb-ff4d-497c-803a-f6fd34498da6"
      },
      "source": [
        "scores=model.evaluate(x_Test4D_normalize,y_TestOneHot) ### evaluate only used for testing images and labels\n",
        "print()\n",
        "print(f'Test loss: {scores[0]} / Test accuracy: {scores[1]}')"
      ],
      "execution_count": 26,
      "outputs": [
        {
          "output_type": "stream",
          "text": [
            "313/313 [==============================] - 1s 3ms/step - loss: 0.0268 - accuracy: 0.9918\n",
            "\n",
            "Test loss: 0.026769107207655907 / Test accuracy: 0.9918000102043152\n"
          ],
          "name": "stdout"
        }
      ]
    },
    {
      "cell_type": "code",
      "metadata": {
        "colab": {
          "base_uri": "https://localhost:8080/"
        },
        "id": "BIp4diIIsW3D",
        "outputId": "25233e64-c77a-43b7-e1f7-86631fb80ba7"
      },
      "source": [
        "prediction=model.predict_classes(x_Test4D_normalize)"
      ],
      "execution_count": 27,
      "outputs": [
        {
          "output_type": "stream",
          "text": [
            "/usr/local/lib/python3.7/dist-packages/tensorflow/python/keras/engine/sequential.py:450: UserWarning: `model.predict_classes()` is deprecated and will be removed after 2021-01-01. Please use instead:* `np.argmax(model.predict(x), axis=-1)`,   if your model does multi-class classification   (e.g. if it uses a `softmax` last-layer activation).* `(model.predict(x) > 0.5).astype(\"int32\")`,   if your model does binary classification   (e.g. if it uses a `sigmoid` last-layer activation).\n",
            "  warnings.warn('`model.predict_classes()` is deprecated and '\n"
          ],
          "name": "stderr"
        }
      ]
    },
    {
      "cell_type": "code",
      "metadata": {
        "id": "qwdqBMlwsioC"
      },
      "source": [
        "def plot_images_labels_prediction(images,labels,prediction,idx,num=10):\n",
        "  fig=plt.gcf()\n",
        "  fig.set_size_inches(12,14)\n",
        "  if num>25:num=25          ### set the number to 25 if exceed it will set to 25\n",
        "  for i in range(0,num):\n",
        "    ax=plt.subplot(5,5,1+i)  ## increase by 1 everytime\n",
        "    ax.imshow(images[idx],cmap='binary') #### plot the graph\n",
        "    title='label='+str(labels[idx])      ####  set the title\n",
        "\n",
        "    if len(prediction)>0:\n",
        "      title+=\",predict=\"+str(prediction[idx])\n",
        "    ax.set_title(title,fontsize=10)\n",
        "    ax.set_xticks([]);ax.set_yticks([]) ### wont show the scale for x axis and y axis\n",
        "\n",
        "    idx+=1\n",
        "plt.show()"
      ],
      "execution_count": 28,
      "outputs": []
    },
    {
      "cell_type": "code",
      "metadata": {
        "colab": {
          "base_uri": "https://localhost:8080/",
          "height": 321
        },
        "id": "u2RQN6WrsoiF",
        "outputId": "667b30b9-e362-445d-ebfc-0001a9f10489"
      },
      "source": [
        "plot_images_labels_prediction(x_Test,y_Test,prediction,idx=0)"
      ],
      "execution_count": 29,
      "outputs": [
        {
          "output_type": "display_data",
          "data": {
            "image/png": "[encoded data removed]",
            "text/plain": [
              "<Figure size 864x1008 with 10 Axes>"
            ]
          },
          "metadata": {
            "tags": []
          }
        }
      ]
    },
    {
      "cell_type": "code",
      "metadata": {
        "colab": {
          "base_uri": "https://localhost:8080/",
          "height": 370
        },
        "id": "0MBoq3eSsqSC",
        "outputId": "bd1d146a-5ac6-48d2-b85f-bf6486448a1e"
      },
      "source": [
        "import pandas as pd\n",
        "pd.crosstab(y_Test,prediction,\n",
        "            rownames=['label'],colnames=['predict'])"
      ],
      "execution_count": 30,
      "outputs": [
        {
          "output_type": "execute_result",
          "data": {
            "text/html": [
              "<div>\n",
              "<style scoped>\n",
              "    .dataframe tbody tr th:only-of-type {\n",
              "        vertical-align: middle;\n",
              "    }\n",
              "\n",
              "    .dataframe tbody tr th {\n",
              "        vertical-align: top;\n",
              "    }\n",
              "\n",
              "    .dataframe thead th {\n",
              "        text-align: right;\n",
              "    }\n",
              "</style>\n",
              "<table border=\"1\" class=\"dataframe\">\n",
              "  <thead>\n",
              "    <tr style=\"text-align: right;\">\n",
              "      <th>predict</th>\n",
              "      <th>0</th>\n",
              "      <th>1</th>\n",
              "      <th>2</th>\n",
              "      <th>3</th>\n",
              "      <th>4</th>\n",
              "      <th>5</th>\n",
              "      <th>6</th>\n",
              "      <th>7</th>\n",
              "      <th>8</th>\n",
              "      <th>9</th>\n",
              "    </tr>\n",
              "    <tr>\n",
              "      <th>label</th>\n",
              "      <th></th>\n",
              "      <th></th>\n",
              "      <th></th>\n",
              "      <th></th>\n",
              "      <th></th>\n",
              "      <th></th>\n",
              "      <th></th>\n",
              "      <th></th>\n",
              "      <th></th>\n",
              "      <th></th>\n",
              "    </tr>\n",
              "  </thead>\n",
              "  <tbody>\n",
              "    <tr>\n",
              "      <th>0</th>\n",
              "      <td>976</td>\n",
              "      <td>0</td>\n",
              "      <td>0</td>\n",
              "      <td>0</td>\n",
              "      <td>0</td>\n",
              "      <td>0</td>\n",
              "      <td>2</td>\n",
              "      <td>1</td>\n",
              "      <td>1</td>\n",
              "      <td>0</td>\n",
              "    </tr>\n",
              "    <tr>\n",
              "      <th>1</th>\n",
              "      <td>0</td>\n",
              "      <td>1131</td>\n",
              "      <td>2</td>\n",
              "      <td>1</td>\n",
              "      <td>0</td>\n",
              "      <td>0</td>\n",
              "      <td>1</td>\n",
              "      <td>0</td>\n",
              "      <td>0</td>\n",
              "      <td>0</td>\n",
              "    </tr>\n",
              "    <tr>\n",
              "      <th>2</th>\n",
              "      <td>2</td>\n",
              "      <td>0</td>\n",
              "      <td>1029</td>\n",
              "      <td>0</td>\n",
              "      <td>0</td>\n",
              "      <td>0</td>\n",
              "      <td>0</td>\n",
              "      <td>1</td>\n",
              "      <td>0</td>\n",
              "      <td>0</td>\n",
              "    </tr>\n",
              "    <tr>\n",
              "      <th>3</th>\n",
              "      <td>0</td>\n",
              "      <td>0</td>\n",
              "      <td>0</td>\n",
              "      <td>1003</td>\n",
              "      <td>0</td>\n",
              "      <td>4</td>\n",
              "      <td>0</td>\n",
              "      <td>1</td>\n",
              "      <td>2</td>\n",
              "      <td>0</td>\n",
              "    </tr>\n",
              "    <tr>\n",
              "      <th>4</th>\n",
              "      <td>0</td>\n",
              "      <td>0</td>\n",
              "      <td>1</td>\n",
              "      <td>0</td>\n",
              "      <td>972</td>\n",
              "      <td>0</td>\n",
              "      <td>1</td>\n",
              "      <td>0</td>\n",
              "      <td>2</td>\n",
              "      <td>6</td>\n",
              "    </tr>\n",
              "    <tr>\n",
              "      <th>5</th>\n",
              "      <td>1</td>\n",
              "      <td>0</td>\n",
              "      <td>0</td>\n",
              "      <td>4</td>\n",
              "      <td>0</td>\n",
              "      <td>884</td>\n",
              "      <td>2</td>\n",
              "      <td>0</td>\n",
              "      <td>0</td>\n",
              "      <td>1</td>\n",
              "    </tr>\n",
              "    <tr>\n",
              "      <th>6</th>\n",
              "      <td>4</td>\n",
              "      <td>2</td>\n",
              "      <td>0</td>\n",
              "      <td>0</td>\n",
              "      <td>1</td>\n",
              "      <td>2</td>\n",
              "      <td>948</td>\n",
              "      <td>0</td>\n",
              "      <td>1</td>\n",
              "      <td>0</td>\n",
              "    </tr>\n",
              "    <tr>\n",
              "      <th>7</th>\n",
              "      <td>0</td>\n",
              "      <td>2</td>\n",
              "      <td>5</td>\n",
              "      <td>1</td>\n",
              "      <td>0</td>\n",
              "      <td>0</td>\n",
              "      <td>0</td>\n",
              "      <td>1018</td>\n",
              "      <td>1</td>\n",
              "      <td>1</td>\n",
              "    </tr>\n",
              "    <tr>\n",
              "      <th>8</th>\n",
              "      <td>2</td>\n",
              "      <td>0</td>\n",
              "      <td>2</td>\n",
              "      <td>1</td>\n",
              "      <td>0</td>\n",
              "      <td>1</td>\n",
              "      <td>0</td>\n",
              "      <td>2</td>\n",
              "      <td>965</td>\n",
              "      <td>1</td>\n",
              "    </tr>\n",
              "    <tr>\n",
              "      <th>9</th>\n",
              "      <td>2</td>\n",
              "      <td>3</td>\n",
              "      <td>0</td>\n",
              "      <td>0</td>\n",
              "      <td>2</td>\n",
              "      <td>4</td>\n",
              "      <td>0</td>\n",
              "      <td>4</td>\n",
              "      <td>2</td>\n",
              "      <td>992</td>\n",
              "    </tr>\n",
              "  </tbody>\n",
              "</table>\n",
              "</div>"
            ],
            "text/plain": [
              "predict    0     1     2     3    4    5    6     7    8    9\n",
              "label                                                        \n",
              "0        976     0     0     0    0    0    2     1    1    0\n",
              "1          0  1131     2     1    0    0    1     0    0    0\n",
              "2          2     0  1029     0    0    0    0     1    0    0\n",
              "3          0     0     0  1003    0    4    0     1    2    0\n",
              "4          0     0     1     0  972    0    1     0    2    6\n",
              "5          1     0     0     4    0  884    2     0    0    1\n",
              "6          4     2     0     0    1    2  948     0    1    0\n",
              "7          0     2     5     1    0    0    0  1018    1    1\n",
              "8          2     0     2     1    0    1    0     2  965    1\n",
              "9          2     3     0     0    2    4    0     4    2  992"
            ]
          },
          "metadata": {
            "tags": []
          },
          "execution_count": 30
        }
      ]
    },
    {
      "cell_type": "code",
      "metadata": {
        "id": "XBcbQLuest3T"
      },
      "source": [
        ""
      ],
      "execution_count": null,
      "outputs": []
    },
    {
      "cell_type": "code",
      "metadata": {
        "id": "ovTOZprUKHV-"
      },
      "source": [
        ""
      ],
      "execution_count": null,
      "outputs": []
    }
  ]
}