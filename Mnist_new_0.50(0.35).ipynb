{
  "nbformat": 4,
  "nbformat_minor": 0,
  "metadata": {
    "colab": {
      "name": "Mnist_new_0.50(0.35).ipynb",
      "provenance": [],
      "collapsed_sections": [],
      "authorship_tag": "ABX9TyPxYMFyjigIcYSJJgemq22g",
      "include_colab_link": true
    },
    "kernelspec": {
      "name": "python3",
      "display_name": "Python 3"
    },
    "language_info": {
      "name": "python"
    },
    "accelerator": "GPU"
  },
  "cells": [
    {
      "cell_type": "markdown",
      "metadata": {
        "id": "view-in-github",
        "colab_type": "text"
      },
      "source": [
        "<a href=\"https://colab.research.google.com/github/jackson119/new_0.50/blob/main/Mnist_new_0.50(0.35).ipynb\" target=\"_parent\"><img src=\"https://colab.research.google.com/assets/colab-badge.svg\" alt=\"Open In Colab\"/></a>"
      ]
    },
    {
      "cell_type": "code",
      "metadata": {
        "id": "VWOXs4Fcj1iL"
      },
      "source": [
        "import tensorflow as tf\n",
        "import keras\n",
        "import timeit\n",
        "\n",
        "import datetime"
      ],
      "execution_count": 23,
      "outputs": []
    },
    {
      "cell_type": "code",
      "metadata": {
        "id": "B2f3fSSJj25c",
        "colab": {
          "base_uri": "https://localhost:8080/"
        },
        "outputId": "287e784d-5e86-494f-9a65-b90874ca0531"
      },
      "source": [
        "print(tf.__version__)"
      ],
      "execution_count": 24,
      "outputs": [
        {
          "output_type": "stream",
          "text": [
            "2.4.1\n"
          ],
          "name": "stdout"
        }
      ]
    },
    {
      "cell_type": "markdown",
      "metadata": {
        "id": "bWnGyUapUPQ5"
      },
      "source": [
        "## **import required library**"
      ]
    },
    {
      "cell_type": "code",
      "metadata": {
        "id": "WYOIBjZ2j7Gg"
      },
      "source": [
        "from tensorflow.keras.datasets import mnist\n",
        "from tensorflow.keras import utils\n",
        "import numpy as np\n",
        "np.random.seed(10)"
      ],
      "execution_count": 25,
      "outputs": []
    },
    {
      "cell_type": "markdown",
      "metadata": {
        "id": "WKUtk9NSUWB7"
      },
      "source": [
        "### Preproccessing data"
      ]
    },
    {
      "cell_type": "code",
      "metadata": {
        "id": "7dqpRL2jkIza"
      },
      "source": [
        "(x_Train,y_Train),(x_Test,y_Test)=mnist.load_data()"
      ],
      "execution_count": 26,
      "outputs": []
    },
    {
      "cell_type": "code",
      "metadata": {
        "id": "DmE55rdQkP2_"
      },
      "source": [
        "x_Train4D=x_Train.reshape(x_Train.shape[0],28,28,1).astype('float32')\n",
        "x_Test4D=x_Test.reshape(x_Test.shape[0],28,28,1).astype('float32')\n"
      ],
      "execution_count": 27,
      "outputs": []
    },
    {
      "cell_type": "code",
      "metadata": {
        "id": "YbxdLorvkXmd"
      },
      "source": [
        "x_Train4D_normalize=x_Train4D/255\n",
        "x_Test4D_normalize=x_Test4D/255"
      ],
      "execution_count": 28,
      "outputs": []
    },
    {
      "cell_type": "code",
      "metadata": {
        "id": "eiI0qK5DkxQF"
      },
      "source": [
        "y_TrainOneHot=utils.to_categorical(y_Train)\n",
        "y_TestOneHot=utils.to_categorical(y_Test)"
      ],
      "execution_count": 29,
      "outputs": []
    },
    {
      "cell_type": "code",
      "metadata": {
        "id": "3-0M-4lSk6uE"
      },
      "source": [
        "##from tensorflow.keras.models import Sequential\n",
        "##from tensorflow.keras.layers import Dense,Dropout,Flatten,Conv2D,MaxPooling2D"
      ],
      "execution_count": 30,
      "outputs": []
    },
    {
      "cell_type": "code",
      "metadata": {
        "id": "D12sZOVunjwf"
      },
      "source": [
        "from keras.models import Sequential\n",
        "from keras.layers import Dense,Dropout,Flatten,Conv2D,MaxPooling2D"
      ],
      "execution_count": 31,
      "outputs": []
    },
    {
      "cell_type": "markdown",
      "metadata": {
        "id": "_x363BktUbVs"
      },
      "source": [
        "### construct model"
      ]
    },
    {
      "cell_type": "code",
      "metadata": {
        "id": "JPz6nXD5l7pL"
      },
      "source": [
        "model=Sequential()"
      ],
      "execution_count": 32,
      "outputs": []
    },
    {
      "cell_type": "code",
      "metadata": {
        "id": "dvGR--Uul9ob"
      },
      "source": [
        "model.add(Conv2D(filters=16,kernel_size=(5,5),padding='same',input_shape=(28,28,1),activation='relu'))"
      ],
      "execution_count": 33,
      "outputs": []
    },
    {
      "cell_type": "code",
      "metadata": {
        "id": "7mzKX8mmmK2S"
      },
      "source": [
        "model.add(MaxPooling2D(pool_size=(2,2)))"
      ],
      "execution_count": 34,
      "outputs": []
    },
    {
      "cell_type": "code",
      "metadata": {
        "id": "bsuQ7Yq1miJ-"
      },
      "source": [
        "model.add(Conv2D(filters=36,kernel_size=(5,5),padding='same',activation='relu'))"
      ],
      "execution_count": 35,
      "outputs": []
    },
    {
      "cell_type": "code",
      "metadata": {
        "id": "VrKNvg7Hn6Du"
      },
      "source": [
        "model.add(MaxPooling2D(pool_size=(2,2)))"
      ],
      "execution_count": 36,
      "outputs": []
    },
    {
      "cell_type": "code",
      "metadata": {
        "id": "MRthPYcwoBcI"
      },
      "source": [
        "model.add(Dropout(0.25))"
      ],
      "execution_count": 37,
      "outputs": []
    },
    {
      "cell_type": "code",
      "metadata": {
        "id": "P485is4Zom-1"
      },
      "source": [
        "model.add(Flatten())"
      ],
      "execution_count": 38,
      "outputs": []
    },
    {
      "cell_type": "code",
      "metadata": {
        "id": "78IBW9kIoDxi"
      },
      "source": [
        "model.add(Dense(128,activation='relu'))"
      ],
      "execution_count": 39,
      "outputs": []
    },
    {
      "cell_type": "code",
      "metadata": {
        "id": "oSN2V7VWoHZT"
      },
      "source": [
        "model.add(Dropout(0.35))"
      ],
      "execution_count": 40,
      "outputs": []
    },
    {
      "cell_type": "code",
      "metadata": {
        "id": "Ryj9sVYzoJPv"
      },
      "source": [
        "model.add(Dense(10,activation='softmax'))"
      ],
      "execution_count": 41,
      "outputs": []
    },
    {
      "cell_type": "code",
      "metadata": {
        "id": "Tflp6GDxoN2M",
        "colab": {
          "base_uri": "https://localhost:8080/"
        },
        "outputId": "d208288a-e581-4d7c-f68e-ba02b06d0577"
      },
      "source": [
        "print(model.summary())"
      ],
      "execution_count": 42,
      "outputs": [
        {
          "output_type": "stream",
          "text": [
            "Model: \"sequential_1\"\n",
            "_________________________________________________________________\n",
            "Layer (type)                 Output Shape              Param #   \n",
            "=================================================================\n",
            "conv2d_2 (Conv2D)            (None, 28, 28, 16)        416       \n",
            "_________________________________________________________________\n",
            "max_pooling2d_2 (MaxPooling2 (None, 14, 14, 16)        0         \n",
            "_________________________________________________________________\n",
            "conv2d_3 (Conv2D)            (None, 14, 14, 36)        14436     \n",
            "_________________________________________________________________\n",
            "max_pooling2d_3 (MaxPooling2 (None, 7, 7, 36)          0         \n",
            "_________________________________________________________________\n",
            "dropout_2 (Dropout)          (None, 7, 7, 36)          0         \n",
            "_________________________________________________________________\n",
            "flatten_1 (Flatten)          (None, 1764)              0         \n",
            "_________________________________________________________________\n",
            "dense_3 (Dense)              (None, 128)               225920    \n",
            "_________________________________________________________________\n",
            "dropout_3 (Dropout)          (None, 128)               0         \n",
            "_________________________________________________________________\n",
            "dense_4 (Dense)              (None, 10)                1290      \n",
            "=================================================================\n",
            "Total params: 242,062\n",
            "Trainable params: 242,062\n",
            "Non-trainable params: 0\n",
            "_________________________________________________________________\n",
            "None\n"
          ],
          "name": "stdout"
        }
      ]
    },
    {
      "cell_type": "code",
      "metadata": {
        "colab": {
          "base_uri": "https://localhost:8080/"
        },
        "id": "KkjXWlxAo-7X",
        "outputId": "ed54b138-77b3-4924-92d6-ae5516ca1b3f"
      },
      "source": [
        "model.compile(loss='categorical_crossentropy',optimizer='adam',metrics=['accuracy'])\n",
        "start_time = timeit.default_timer()\n",
        "train_history=model.fit(x=x_Train4D_normalize,y=y_TrainOneHot,validation_split=0.20,epochs=10,batch_size=300,verbose=2)\n",
        "end_time = timeit.default_timer()\n",
        "end_time_conversion=datetime.timedelta(seconds=end_time-start_time)\n",
        "converted_time = str(end_time_conversion)\n",
        "print(\"time needed to complete the process\", converted_time)"
      ],
      "execution_count": 43,
      "outputs": [
        {
          "output_type": "stream",
          "text": [
            "Epoch 1/10\n",
            "160/160 - 34s - loss: 0.4139 - accuracy: 0.8734 - val_loss: 0.0952 - val_accuracy: 0.9716\n",
            "Epoch 2/10\n",
            "160/160 - 1s - loss: 0.1116 - accuracy: 0.9663 - val_loss: 0.0619 - val_accuracy: 0.9808\n",
            "Epoch 3/10\n",
            "160/160 - 1s - loss: 0.0806 - accuracy: 0.9757 - val_loss: 0.0495 - val_accuracy: 0.9858\n",
            "Epoch 4/10\n",
            "160/160 - 1s - loss: 0.0651 - accuracy: 0.9802 - val_loss: 0.0453 - val_accuracy: 0.9864\n",
            "Epoch 5/10\n",
            "160/160 - 1s - loss: 0.0554 - accuracy: 0.9830 - val_loss: 0.0415 - val_accuracy: 0.9873\n",
            "Epoch 6/10\n",
            "160/160 - 1s - loss: 0.0484 - accuracy: 0.9846 - val_loss: 0.0369 - val_accuracy: 0.9889\n",
            "Epoch 7/10\n",
            "160/160 - 1s - loss: 0.0416 - accuracy: 0.9870 - val_loss: 0.0343 - val_accuracy: 0.9898\n",
            "Epoch 8/10\n",
            "160/160 - 1s - loss: 0.0379 - accuracy: 0.9882 - val_loss: 0.0338 - val_accuracy: 0.9905\n",
            "Epoch 9/10\n",
            "160/160 - 1s - loss: 0.0329 - accuracy: 0.9895 - val_loss: 0.0333 - val_accuracy: 0.9911\n",
            "Epoch 10/10\n",
            "160/160 - 1s - loss: 0.0307 - accuracy: 0.9904 - val_loss: 0.0330 - val_accuracy: 0.9917\n",
            "time needed to complete the process 0:00:42.824999\n"
          ],
          "name": "stdout"
        }
      ]
    },
    {
      "cell_type": "code",
      "metadata": {
        "id": "BRDns4JIpRSq"
      },
      "source": [
        "from matplotlib import pyplot as plt"
      ],
      "execution_count": 44,
      "outputs": []
    },
    {
      "cell_type": "code",
      "metadata": {
        "id": "bEkINJ-GritY"
      },
      "source": [
        "def show_train_history(train_history,train,validation):\n",
        "  plt.plot(train_history.history[train])   ### the training model will be stored into dictionary that why we can rethreived it like this.\n",
        "  plt.plot(train_history.history[validation])\n",
        "  plt.title('Train History')\n",
        "  plt.ylabel('Train')\n",
        "  plt.xlabel('Epoch')\n",
        "  plt.legend(['train','validation'],loc='upper left')\n",
        "  plt.show()"
      ],
      "execution_count": 45,
      "outputs": []
    },
    {
      "cell_type": "code",
      "metadata": {
        "colab": {
          "base_uri": "https://localhost:8080/",
          "height": 295
        },
        "id": "Njycld2KrmY-",
        "outputId": "53a416f8-bc09-4d74-b50a-2d784a3ab190"
      },
      "source": [
        "show_train_history(train_history,'accuracy','val_accuracy')"
      ],
      "execution_count": 46,
      "outputs": [
        {
          "output_type": "display_data",
          "data": {
            "image/png": "[encoded data removed]",
            "text/plain": [
              "<Figure size 432x288 with 1 Axes>"
            ]
          },
          "metadata": {
            "tags": [],
            "needs_background": "light"
          }
        }
      ]
    },
    {
      "cell_type": "code",
      "metadata": {
        "colab": {
          "base_uri": "https://localhost:8080/",
          "height": 295
        },
        "id": "7xzDtW-6rnye",
        "outputId": "c4af3397-7acc-4de7-9a8d-22fafa5e2856"
      },
      "source": [
        "show_train_history(train_history,'loss','val_loss')"
      ],
      "execution_count": 47,
      "outputs": [
        {
          "output_type": "display_data",
          "data": {
            "image/png": "[encoded data removed]",
            "text/plain": [
              "<Figure size 432x288 with 1 Axes>"
            ]
          },
          "metadata": {
            "tags": [],
            "needs_background": "light"
          }
        }
      ]
    },
    {
      "cell_type": "code",
      "metadata": {
        "colab": {
          "base_uri": "https://localhost:8080/"
        },
        "id": "rigODtjWsH9a",
        "outputId": "c2ca2e91-f4c7-44d2-c991-edaaf138306c"
      },
      "source": [
        "scores=model.evaluate(x_Test4D_normalize,y_TestOneHot) ### evaluate only used for testing images and labels\n",
        "print()\n",
        "print(f'Test loss: {scores[0]} / Test accuracy: {scores[1]}')"
      ],
      "execution_count": 48,
      "outputs": [
        {
          "output_type": "stream",
          "text": [
            "313/313 [==============================] - 1s 3ms/step - loss: 0.0279 - accuracy: 0.9899\n",
            "\n",
            "Test loss: 0.027898110449314117 / Test accuracy: 0.9898999929428101\n"
          ],
          "name": "stdout"
        }
      ]
    },
    {
      "cell_type": "code",
      "metadata": {
        "colab": {
          "base_uri": "https://localhost:8080/"
        },
        "id": "BIp4diIIsW3D",
        "outputId": "71f62d6e-e19a-453f-819a-5317a4795154"
      },
      "source": [
        "prediction=model.predict_classes(x_Test4D_normalize)"
      ],
      "execution_count": 49,
      "outputs": [
        {
          "output_type": "stream",
          "text": [
            "/usr/local/lib/python3.7/dist-packages/tensorflow/python/keras/engine/sequential.py:450: UserWarning: `model.predict_classes()` is deprecated and will be removed after 2021-01-01. Please use instead:* `np.argmax(model.predict(x), axis=-1)`,   if your model does multi-class classification   (e.g. if it uses a `softmax` last-layer activation).* `(model.predict(x) > 0.5).astype(\"int32\")`,   if your model does binary classification   (e.g. if it uses a `sigmoid` last-layer activation).\n",
            "  warnings.warn('`model.predict_classes()` is deprecated and '\n"
          ],
          "name": "stderr"
        }
      ]
    },
    {
      "cell_type": "code",
      "metadata": {
        "id": "qwdqBMlwsioC"
      },
      "source": [
        "def plot_images_labels_prediction(images,labels,prediction,idx,num=10):\n",
        "  fig=plt.gcf()\n",
        "  fig.set_size_inches(12,14)\n",
        "  if num>25:num=25          ### set the number to 25 if exceed it will set to 25\n",
        "  for i in range(0,num):\n",
        "    ax=plt.subplot(5,5,1+i)  ## increase by 1 everytime\n",
        "    ax.imshow(images[idx],cmap='binary') #### plot the graph\n",
        "    title='label='+str(labels[idx])      ####  set the title\n",
        "\n",
        "    if len(prediction)>0:\n",
        "      title+=\",predict=\"+str(prediction[idx])\n",
        "    ax.set_title(title,fontsize=10)\n",
        "    ax.set_xticks([]);ax.set_yticks([]) ### wont show the scale for x axis and y axis\n",
        "\n",
        "    idx+=1\n",
        "plt.show()"
      ],
      "execution_count": 50,
      "outputs": []
    },
    {
      "cell_type": "code",
      "metadata": {
        "colab": {
          "base_uri": "https://localhost:8080/",
          "height": 321
        },
        "id": "u2RQN6WrsoiF",
        "outputId": "d8dd845c-d783-4515-df98-1ee73381ad97"
      },
      "source": [
        "plot_images_labels_prediction(x_Test,y_Test,prediction,idx=0)"
      ],
      "execution_count": 51,
      "outputs": [
        {
          "output_type": "display_data",
          "data": {
            "image/png": "[encoded data removed]",
            "text/plain": [
              "<Figure size 864x1008 with 10 Axes>"
            ]
          },
          "metadata": {
            "tags": []
          }
        }
      ]
    },
    {
      "cell_type": "code",
      "metadata": {
        "colab": {
          "base_uri": "https://localhost:8080/",
          "height": 370
        },
        "id": "0MBoq3eSsqSC",
        "outputId": "e4a5d107-574f-45cc-9952-d2bbfb5eb659"
      },
      "source": [
        "import pandas as pd\n",
        "pd.crosstab(y_Test,prediction,\n",
        "            rownames=['label'],colnames=['predict'])"
      ],
      "execution_count": 52,
      "outputs": [
        {
          "output_type": "execute_result",
          "data": {
            "text/html": [
              "<div>\n",
              "<style scoped>\n",
              "    .dataframe tbody tr th:only-of-type {\n",
              "        vertical-align: middle;\n",
              "    }\n",
              "\n",
              "    .dataframe tbody tr th {\n",
              "        vertical-align: top;\n",
              "    }\n",
              "\n",
              "    .dataframe thead th {\n",
              "        text-align: right;\n",
              "    }\n",
              "</style>\n",
              "<table border=\"1\" class=\"dataframe\">\n",
              "  <thead>\n",
              "    <tr style=\"text-align: right;\">\n",
              "      <th>predict</th>\n",
              "      <th>0</th>\n",
              "      <th>1</th>\n",
              "      <th>2</th>\n",
              "      <th>3</th>\n",
              "      <th>4</th>\n",
              "      <th>5</th>\n",
              "      <th>6</th>\n",
              "      <th>7</th>\n",
              "      <th>8</th>\n",
              "      <th>9</th>\n",
              "    </tr>\n",
              "    <tr>\n",
              "      <th>label</th>\n",
              "      <th></th>\n",
              "      <th></th>\n",
              "      <th></th>\n",
              "      <th></th>\n",
              "      <th></th>\n",
              "      <th></th>\n",
              "      <th></th>\n",
              "      <th></th>\n",
              "      <th></th>\n",
              "      <th></th>\n",
              "    </tr>\n",
              "  </thead>\n",
              "  <tbody>\n",
              "    <tr>\n",
              "      <th>0</th>\n",
              "      <td>975</td>\n",
              "      <td>0</td>\n",
              "      <td>0</td>\n",
              "      <td>0</td>\n",
              "      <td>0</td>\n",
              "      <td>0</td>\n",
              "      <td>2</td>\n",
              "      <td>1</td>\n",
              "      <td>2</td>\n",
              "      <td>0</td>\n",
              "    </tr>\n",
              "    <tr>\n",
              "      <th>1</th>\n",
              "      <td>0</td>\n",
              "      <td>1125</td>\n",
              "      <td>2</td>\n",
              "      <td>2</td>\n",
              "      <td>0</td>\n",
              "      <td>0</td>\n",
              "      <td>1</td>\n",
              "      <td>2</td>\n",
              "      <td>3</td>\n",
              "      <td>0</td>\n",
              "    </tr>\n",
              "    <tr>\n",
              "      <th>2</th>\n",
              "      <td>0</td>\n",
              "      <td>0</td>\n",
              "      <td>1031</td>\n",
              "      <td>0</td>\n",
              "      <td>0</td>\n",
              "      <td>0</td>\n",
              "      <td>0</td>\n",
              "      <td>1</td>\n",
              "      <td>0</td>\n",
              "      <td>0</td>\n",
              "    </tr>\n",
              "    <tr>\n",
              "      <th>3</th>\n",
              "      <td>0</td>\n",
              "      <td>0</td>\n",
              "      <td>0</td>\n",
              "      <td>1005</td>\n",
              "      <td>0</td>\n",
              "      <td>3</td>\n",
              "      <td>0</td>\n",
              "      <td>0</td>\n",
              "      <td>2</td>\n",
              "      <td>0</td>\n",
              "    </tr>\n",
              "    <tr>\n",
              "      <th>4</th>\n",
              "      <td>0</td>\n",
              "      <td>0</td>\n",
              "      <td>1</td>\n",
              "      <td>0</td>\n",
              "      <td>972</td>\n",
              "      <td>0</td>\n",
              "      <td>0</td>\n",
              "      <td>0</td>\n",
              "      <td>2</td>\n",
              "      <td>7</td>\n",
              "    </tr>\n",
              "    <tr>\n",
              "      <th>5</th>\n",
              "      <td>2</td>\n",
              "      <td>0</td>\n",
              "      <td>0</td>\n",
              "      <td>2</td>\n",
              "      <td>0</td>\n",
              "      <td>886</td>\n",
              "      <td>2</td>\n",
              "      <td>0</td>\n",
              "      <td>0</td>\n",
              "      <td>0</td>\n",
              "    </tr>\n",
              "    <tr>\n",
              "      <th>6</th>\n",
              "      <td>5</td>\n",
              "      <td>1</td>\n",
              "      <td>0</td>\n",
              "      <td>0</td>\n",
              "      <td>1</td>\n",
              "      <td>4</td>\n",
              "      <td>946</td>\n",
              "      <td>0</td>\n",
              "      <td>1</td>\n",
              "      <td>0</td>\n",
              "    </tr>\n",
              "    <tr>\n",
              "      <th>7</th>\n",
              "      <td>0</td>\n",
              "      <td>1</td>\n",
              "      <td>7</td>\n",
              "      <td>2</td>\n",
              "      <td>0</td>\n",
              "      <td>0</td>\n",
              "      <td>0</td>\n",
              "      <td>1017</td>\n",
              "      <td>1</td>\n",
              "      <td>0</td>\n",
              "    </tr>\n",
              "    <tr>\n",
              "      <th>8</th>\n",
              "      <td>3</td>\n",
              "      <td>0</td>\n",
              "      <td>3</td>\n",
              "      <td>1</td>\n",
              "      <td>0</td>\n",
              "      <td>1</td>\n",
              "      <td>0</td>\n",
              "      <td>1</td>\n",
              "      <td>965</td>\n",
              "      <td>0</td>\n",
              "    </tr>\n",
              "    <tr>\n",
              "      <th>9</th>\n",
              "      <td>4</td>\n",
              "      <td>2</td>\n",
              "      <td>1</td>\n",
              "      <td>4</td>\n",
              "      <td>4</td>\n",
              "      <td>5</td>\n",
              "      <td>0</td>\n",
              "      <td>7</td>\n",
              "      <td>5</td>\n",
              "      <td>977</td>\n",
              "    </tr>\n",
              "  </tbody>\n",
              "</table>\n",
              "</div>"
            ],
            "text/plain": [
              "predict    0     1     2     3    4    5    6     7    8    9\n",
              "label                                                        \n",
              "0        975     0     0     0    0    0    2     1    2    0\n",
              "1          0  1125     2     2    0    0    1     2    3    0\n",
              "2          0     0  1031     0    0    0    0     1    0    0\n",
              "3          0     0     0  1005    0    3    0     0    2    0\n",
              "4          0     0     1     0  972    0    0     0    2    7\n",
              "5          2     0     0     2    0  886    2     0    0    0\n",
              "6          5     1     0     0    1    4  946     0    1    0\n",
              "7          0     1     7     2    0    0    0  1017    1    0\n",
              "8          3     0     3     1    0    1    0     1  965    0\n",
              "9          4     2     1     4    4    5    0     7    5  977"
            ]
          },
          "metadata": {
            "tags": []
          },
          "execution_count": 52
        }
      ]
    },
    {
      "cell_type": "code",
      "metadata": {
        "id": "XBcbQLuest3T"
      },
      "source": [
        ""
      ],
      "execution_count": null,
      "outputs": []
    },
    {
      "cell_type": "code",
      "metadata": {
        "id": "ovTOZprUKHV-"
      },
      "source": [
        ""
      ],
      "execution_count": null,
      "outputs": []
    }
  ]
}